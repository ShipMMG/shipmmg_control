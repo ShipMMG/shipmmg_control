{
 "cells": [
  {
   "cell_type": "code",
   "execution_count": 1,
   "id": "composed-cable",
   "metadata": {},
   "outputs": [],
   "source": [
    "import numpy as np\n",
    "import do_mpc"
   ]
  },
  {
   "cell_type": "code",
   "execution_count": 2,
   "id": "fallen-medicare",
   "metadata": {},
   "outputs": [],
   "source": [
    "model_type = 'continuous' # either 'discrete' or 'continuous'\n",
    "model = do_mpc.model.Model(model_type)"
   ]
  },
  {
   "cell_type": "code",
   "execution_count": 3,
   "id": "plain-minister",
   "metadata": {},
   "outputs": [],
   "source": [
    "δ = model.set_variable(var_type='_u', var_name='δ', shape=(1,1))\n",
    "δ_m = model.set_variable(var_type='_x', var_name='δ_m', shape=(1,1))\n",
    "r = model.set_variable(var_type='_x', var_name='r', shape=(1,1))\n",
    "dr = model.set_variable(var_type='_x', var_name='dr', shape=(1,1))"
   ]
  },
  {
   "cell_type": "code",
   "execution_count": 4,
   "id": "immune-relations",
   "metadata": {},
   "outputs": [],
   "source": [
    "K = model.set_variable(var_type='_p', var_name='K')\n",
    "T = model.set_variable(var_type='_p', var_name='T')"
   ]
  },
  {
   "cell_type": "code",
   "execution_count": 5,
   "id": "compliant-arrest",
   "metadata": {},
   "outputs": [],
   "source": [
    "model.set_rhs('r', dr)"
   ]
  },
  {
   "cell_type": "code",
   "execution_count": 6,
   "id": "editorial-ottawa",
   "metadata": {},
   "outputs": [],
   "source": [
    "from casadi import *"
   ]
  },
  {
   "cell_type": "code",
   "execution_count": 7,
   "id": "behavioral-origin",
   "metadata": {},
   "outputs": [],
   "source": [
    "dr_next = vertcat(\n",
    "    1.0 / T * (- r + K * δ )\n",
    ")\n",
    "model.set_rhs('dr', dr_next)"
   ]
  },
  {
   "cell_type": "code",
   "execution_count": 8,
   "id": "emotional-theme",
   "metadata": {},
   "outputs": [],
   "source": [
    "model.set_rhs('δ_m', δ - δ_m)"
   ]
  },
  {
   "cell_type": "code",
   "execution_count": 9,
   "id": "comic-archive",
   "metadata": {},
   "outputs": [],
   "source": [
    "model.setup()"
   ]
  },
  {
   "cell_type": "code",
   "execution_count": 10,
   "id": "formal-smith",
   "metadata": {},
   "outputs": [],
   "source": [
    "mpc = do_mpc.controller.MPC(model)"
   ]
  },
  {
   "cell_type": "code",
   "execution_count": 11,
   "id": "interested-design",
   "metadata": {},
   "outputs": [],
   "source": [
    "setup_mpc = {\n",
    "    'n_horizon': 200,\n",
    "    't_step': 0.1,\n",
    "    'n_robust': 1,\n",
    "    'store_full_solution': True,\n",
    "}\n",
    "mpc.set_param(**setup_mpc)"
   ]
  },
  {
   "cell_type": "code",
   "execution_count": 12,
   "id": "coordinated-hughes",
   "metadata": {},
   "outputs": [],
   "source": [
    "target_r = 0.00050\n",
    "mterm = (r - target_r)**2\n",
    "lterm = (r - target_r)**2\n",
    "mpc.set_objective(mterm=mterm, lterm=lterm)"
   ]
  },
  {
   "cell_type": "code",
   "execution_count": 13,
   "id": "fitting-operations",
   "metadata": {},
   "outputs": [],
   "source": [
    "mpc.set_rterm(\n",
    "    δ = 1e-3\n",
    ")"
   ]
  },
  {
   "cell_type": "code",
   "execution_count": 14,
   "id": "immune-assembly",
   "metadata": {},
   "outputs": [],
   "source": [
    "mpc.bounds['lower','_u', 'δ'] = - 30 * np.pi / 180\n",
    "mpc.bounds['upper','_u', 'δ'] = 30 * np.pi / 180"
   ]
  },
  {
   "cell_type": "code",
   "execution_count": 15,
   "id": "banner-delivery",
   "metadata": {},
   "outputs": [],
   "source": [
    "mpc.set_uncertainty_values(\n",
    "    K = 0.15 * np.array([1., 0.95, 1.05]),\n",
    "    T = 80.0 * np.array([1., 0.90, 1.10]),\n",
    ")"
   ]
  },
  {
   "cell_type": "code",
   "execution_count": 16,
   "id": "civilian-camel",
   "metadata": {},
   "outputs": [],
   "source": [
    "mpc.setup()"
   ]
  },
  {
   "cell_type": "code",
   "execution_count": 17,
   "id": "rotary-final",
   "metadata": {},
   "outputs": [],
   "source": [
    "simulator = do_mpc.simulator.Simulator(model)"
   ]
  },
  {
   "cell_type": "code",
   "execution_count": 18,
   "id": "moral-sport",
   "metadata": {},
   "outputs": [],
   "source": [
    "simulator.set_param(t_step = 0.1)"
   ]
  },
  {
   "cell_type": "code",
   "execution_count": 19,
   "id": "lucky-polish",
   "metadata": {},
   "outputs": [],
   "source": [
    "p_template = simulator.get_p_template()"
   ]
  },
  {
   "cell_type": "code",
   "execution_count": 20,
   "id": "cathedral-grain",
   "metadata": {},
   "outputs": [
    {
     "data": {
      "text/plain": [
       "['default', 'K', 'T']"
      ]
     },
     "execution_count": 20,
     "metadata": {},
     "output_type": "execute_result"
    }
   ],
   "source": [
    "p_template.keys()"
   ]
  },
  {
   "cell_type": "code",
   "execution_count": 21,
   "id": "terminal-noise",
   "metadata": {},
   "outputs": [],
   "source": [
    "def p_fun(t_now):\n",
    "    p_template['K'] = 0.15\n",
    "    p_template['T'] = 80.0\n",
    "    return p_template"
   ]
  },
  {
   "cell_type": "code",
   "execution_count": 22,
   "id": "particular-county",
   "metadata": {},
   "outputs": [],
   "source": [
    "simulator.set_p_fun(p_fun)"
   ]
  },
  {
   "cell_type": "code",
   "execution_count": 23,
   "id": "finished-cisco",
   "metadata": {},
   "outputs": [],
   "source": [
    "simulator.setup()"
   ]
  },
  {
   "cell_type": "code",
   "execution_count": 24,
   "id": "agricultural-familiar",
   "metadata": {},
   "outputs": [],
   "source": [
    "mpc.set_initial_guess()"
   ]
  },
  {
   "cell_type": "code",
   "execution_count": 25,
   "id": "consolidated-variety",
   "metadata": {},
   "outputs": [],
   "source": [
    "import matplotlib.pyplot as plt\n",
    "import matplotlib as mpl\n",
    "# Customizing Matplotlib:\n",
    "mpl.rcParams['font.size'] = 18\n",
    "mpl.rcParams['lines.linewidth'] = 3\n",
    "mpl.rcParams['axes.grid'] = True"
   ]
  },
  {
   "cell_type": "code",
   "execution_count": 26,
   "id": "aggregate-camera",
   "metadata": {},
   "outputs": [],
   "source": [
    "mpc_graphics = do_mpc.graphics.Graphics(mpc.data)\n",
    "sim_graphics = do_mpc.graphics.Graphics(simulator.data)"
   ]
  },
  {
   "cell_type": "code",
   "execution_count": 27,
   "id": "imported-documentation",
   "metadata": {},
   "outputs": [],
   "source": [
    "%%capture\n",
    "# We just want to create the plot and not show it right now. This \"inline magic\" supresses the output.\n",
    "fig, ax = plt.subplots(2, sharex=True, figsize=(16,9))\n",
    "fig.align_ylabels()"
   ]
  },
  {
   "cell_type": "code",
   "execution_count": 28,
   "id": "active-italian",
   "metadata": {},
   "outputs": [],
   "source": [
    "%%capture\n",
    "for g in [sim_graphics, mpc_graphics]:\n",
    "    g.add_line(var_type='_x', var_name='r', axis=ax[0])\n",
    "    g.add_line(var_type='_u', var_name='δ', axis=ax[1])\n",
    "\n",
    "\n",
    "ax[0].set_ylabel('rate_of_turn [rad/s]')\n",
    "ax[1].set_ylabel('delta [rad]')\n",
    "ax[1].set_xlabel('time [s]')"
   ]
  },
  {
   "cell_type": "code",
   "execution_count": 29,
   "id": "pointed-helicopter",
   "metadata": {},
   "outputs": [],
   "source": [
    "u0 = np.zeros((1,1))\n",
    "for i in range(200):\n",
    "    simulator.make_step(u0)"
   ]
  },
  {
   "cell_type": "code",
   "execution_count": 30,
   "id": "heated-rover",
   "metadata": {},
   "outputs": [
    {
     "data": {
      "image/png": "[encoded data removed]",
      "text/plain": [
       "<Figure size 1152x648 with 2 Axes>"
      ]
     },
     "execution_count": 30,
     "metadata": {},
     "output_type": "execute_result"
    }
   ],
   "source": [
    "sim_graphics.plot_results()\n",
    "# Reset the limits on all axes in graphic to show the data.\n",
    "sim_graphics.reset_axes()\n",
    "# Show the figure:\n",
    "fig"
   ]
  },
  {
   "cell_type": "code",
   "execution_count": 31,
   "id": "tracked-forty",
   "metadata": {},
   "outputs": [
    {
     "name": "stdout",
     "output_type": "stream",
     "text": [
      "\n",
      "******************************************************************************\n",
      "This program contains Ipopt, a library for large-scale nonlinear optimization.\n",
      " Ipopt is released as open source code under the Eclipse Public License (EPL).\n",
      "         For more information visit http://projects.coin-or.org/Ipopt\n",
      "******************************************************************************\n",
      "\n",
      "This is Ipopt version 3.12.3, running with linear solver mumps.\n",
      "NOTE: Other linear solvers might be more efficient (see Ipopt documentation).\n",
      "\n",
      "Number of nonzeros in equality constraint Jacobian...:    68403\n",
      "Number of nonzeros in inequality constraint Jacobian.:        0\n",
      "Number of nonzeros in Lagrangian Hessian.............:     5384\n",
      "\n",
      "Total number of variables............................:    23508\n",
      "                     variables with only lower bounds:        0\n",
      "                variables with lower and upper bounds:     1800\n",
      "                     variables with only upper bounds:        0\n",
      "Total number of equality constraints.................:    21603\n",
      "Total number of inequality constraints...............:        0\n",
      "        inequality constraints with only lower bounds:        0\n",
      "   inequality constraints with lower and upper bounds:        0\n",
      "        inequality constraints with only upper bounds:        0\n",
      "\n",
      "iter    objective    inf_pr   inf_du lg(mu)  ||d||  lg(rg) alpha_du alpha_pr  ls\n",
      "   0  5.0250000e-05 0.00e+00 5.41e-05  -1.0 0.00e+00    -  0.00e+00 0.00e+00   0\n",
      "   1  5.0144854e-05 9.31e-21 6.29e-09  -1.7 6.29e-05  -4.0 1.00e+00 1.00e+00f  1\n",
      "   2  4.7642304e-05 2.25e-19 4.32e-08  -3.8 1.30e-03  -4.5 1.00e+00 1.00e+00f  1\n",
      "   3  1.5475669e-05 8.24e-18 7.08e-08  -5.7 6.37e-03  -5.0 1.00e+00 1.00e+00f  1\n",
      "   4  9.0390659e-06 1.84e-17 1.35e-07  -8.6 1.73e-02  -5.4 9.77e-01 1.00e+00f  1\n",
      "   5  8.5420992e-06 2.60e-17 9.40e-09  -8.6 7.61e-03  -5.9 1.00e+00 1.00e+00f  1\n",
      "\n",
      "Number of Iterations....: 5\n",
      "\n",
      "                                   (scaled)                 (unscaled)\n",
      "Objective...............:   8.5420991835306060e-06    8.5420991835306060e-06\n",
      "Dual infeasibility......:   9.3988072059908342e-09    9.3988072059908342e-09\n",
      "Constraint violation....:   2.6020852139652106e-17    2.6020852139652106e-17\n",
      "Complementarity.........:   5.0049146814746699e-09    5.0049146814746699e-09\n",
      "Overall NLP error.......:   9.3988072059908342e-09    9.3988072059908342e-09\n",
      "\n",
      "\n",
      "Number of objective function evaluations             = 6\n",
      "Number of objective gradient evaluations             = 6\n",
      "Number of equality constraint evaluations            = 6\n",
      "Number of inequality constraint evaluations          = 0\n",
      "Number of equality constraint Jacobian evaluations   = 6\n",
      "Number of inequality constraint Jacobian evaluations = 0\n",
      "Number of Lagrangian Hessian evaluations             = 5\n",
      "Total CPU secs in IPOPT (w/o function evaluations)   =      0.236\n",
      "Total CPU secs in NLP function evaluations           =      0.007\n",
      "\n",
      "EXIT: Optimal Solution Found.\n",
      "           S  :   t_proc      (avg)   t_wall      (avg)    n_eval\n",
      "       nlp_f  | 255.00us ( 42.50us) 255.04us ( 42.51us)         6\n",
      "       nlp_g  |   2.10ms (350.33us)   2.09ms (348.54us)         6\n",
      "    nlp_grad  | 779.00us (779.00us) 779.58us (779.58us)         1\n",
      "  nlp_grad_f  | 739.00us (105.57us) 741.29us (105.90us)         7\n",
      "  nlp_hess_l  | 205.00us ( 41.00us) 206.29us ( 41.26us)         5\n",
      "   nlp_jac_g  |   3.74ms (534.57us)   3.73ms (532.61us)         7\n",
      "       total  | 250.58ms (250.58ms) 248.49ms (248.49ms)         1\n"
     ]
    }
   ],
   "source": [
    "u0 = mpc.make_step(mpc.x0)"
   ]
  },
  {
   "cell_type": "code",
   "execution_count": 32,
   "id": "included-trick",
   "metadata": {},
   "outputs": [],
   "source": [
    "sim_graphics.clear()"
   ]
  },
  {
   "cell_type": "code",
   "execution_count": 33,
   "id": "complex-conclusion",
   "metadata": {},
   "outputs": [
    {
     "data": {
      "image/png": "[encoded data removed]",
      "text/plain": [
       "<Figure size 1152x648 with 2 Axes>"
      ]
     },
     "execution_count": 33,
     "metadata": {},
     "output_type": "execute_result"
    }
   ],
   "source": [
    "mpc_graphics.plot_predictions()\n",
    "mpc_graphics.reset_axes()\n",
    "# Show the figure:\n",
    "fig"
   ]
  },
  {
   "cell_type": "code",
   "execution_count": null,
   "id": "provincial-detection",
   "metadata": {},
   "outputs": [],
   "source": []
  },
  {
   "cell_type": "code",
   "execution_count": null,
   "id": "ancient-treasure",
   "metadata": {},
   "outputs": [],
   "source": []
  }
 ],
 "metadata": {
  "kernelspec": {
   "display_name": "Python 3",
   "language": "python",
   "name": "python3"
  },
  "language_info": {
   "codemirror_mode": {
    "name": "ipython",
    "version": 3
   },
   "file_extension": ".py",
   "mimetype": "text/x-python",
   "name": "python",
   "nbconvert_exporter": "python",
   "pygments_lexer": "ipython3",
   "version": "3.9.1"
  }
 },
 "nbformat": 4,
 "nbformat_minor": 5
}
